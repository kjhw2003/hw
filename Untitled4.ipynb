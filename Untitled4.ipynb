{
  "nbformat": 4,
  "nbformat_minor": 0,
  "metadata": {
    "colab": {
      "name": "Untitled4.ipynb",
      "provenance": [],
      "include_colab_link": true
    },
    "kernelspec": {
      "name": "python3",
      "display_name": "Python 3"
    }
  },
  "cells": [
    {
      "cell_type": "markdown",
      "metadata": {
        "id": "view-in-github",
        "colab_type": "text"
      },
      "source": [
        "<a href=\"https://colab.research.google.com/github/kjhw2003/hw/blob/master/Untitled4.ipynb\" target=\"_parent\"><img src=\"https://colab.research.google.com/assets/colab-badge.svg\" alt=\"Open In Colab\"/></a>"
      ]
    },
    {
      "cell_type": "code",
      "metadata": {
        "id": "tlJKEWmR_8PV",
        "colab_type": "code",
        "colab": {
          "base_uri": "https://localhost:8080/",
          "height": 467
        },
        "outputId": "b758d6c5-769e-4d5d-e6f0-e1282ceea7c0"
      },
      "source": [
        "import time\n",
        "from numba import jit\n",
        "\n",
        "\n",
        "a=int(input(\"몇 단을 출력하실건가요 : \"))\n",
        "i=1\n",
        "start=time.time()\n",
        "while i<=9:\n",
        "      print('%d*%d:'%(a,i),a*i)\n",
        "      i=i+1\n",
        "end=time.time()\n",
        "print(end-start)\n",
        "    \n",
        "  \n",
        "a=int(input(\"몇단을 출력하실건가요 : \"))\n",
        "\n",
        "import numpy as np\n",
        "x=np.array([1, 2, 3, 4, 5, 6, 7, 8, 9])\n",
        "def numpy(k,j):\n",
        "  return x*a\n",
        "print(numpy(x,a))\n",
        "\n",
        "%timeit numpy(x,a)\n",
        "\n",
        "\n",
        "\n",
        "a=int(input(\"몇단을 출력하실건가요 : \"))\n",
        "import numpy as np\n",
        "x=np.array([1, 2, 3, 4, 5, 6, 7, 8, 9])\n",
        "@numba.jit\n",
        "def numbatest(k,j):\n",
        "  return x*a\n",
        "print(numbatest(x,a))\n",
        "%timeit numbatest(x,a)\n",
        "\n",
        "!find / -iname 'libdevice'\n",
        "!find / -iname 'libnvvm.so'\n",
        "import os\n",
        "os.environ['NUMBAPRO_LIBDEVICE'] = \"/usr/local/cuda-10.0/nvvm/libdevice\"\n",
        "os.environ['NUMBAPRO_NVVM'] = \"/usr/local/cuda-10.0/nvvm/lib64/libnvvm.so\"\n",
        "\n",
        "import numpy as np\n",
        "from numba import vectorize\n",
        "\n",
        "\n",
        "a=int(input(\"몇단을 출력하실건가요 : \"))\n",
        "\n",
        "x=np.array([1, 2, 3, 4, 5, 6, 7, 8, 9])\n",
        "@vectorize\n",
        "def cudaa(k,j):\n",
        "  return k*j\n",
        "print(cudaa(a,x))\n",
        "%timeit cudaa(a,x)\n",
        "\n",
        "  \n"
      ],
      "execution_count": 101,
      "outputs": [
        {
          "output_type": "stream",
          "text": [
            "몇 단을 출력하실건가요 : 3\n",
            "3*1: 3\n",
            "3*2: 6\n",
            "3*3: 9\n",
            "3*4: 12\n",
            "3*5: 15\n",
            "3*6: 18\n",
            "3*7: 21\n",
            "3*8: 24\n",
            "3*9: 27\n",
            "0.0006248950958251953\n",
            "몇단을 출력하실건가요 : 3\n",
            "[ 3  6  9 12 15 18 21 24 27]\n",
            "The slowest run took 37.29 times longer than the fastest. This could mean that an intermediate result is being cached.\n",
            "1000000 loops, best of 3: 912 ns per loop\n",
            "몇단을 출력하실건가요 : 3\n",
            "[ 3  6  9 12 15 18 21 24 27]\n",
            "The slowest run took 17.68 times longer than the fastest. This could mean that an intermediate result is being cached.\n",
            "1000000 loops, best of 3: 569 ns per loop\n",
            "/usr/local/cuda-10.0/nvvm/libdevice\n",
            "/usr/local/cuda-10.0/nvvm/lib64/libnvvm.so\n",
            "몇단을 출력하실건가요 : 3\n",
            "[ 3  6  9 12 15 18 21 24 27]\n",
            "The slowest run took 45.75 times longer than the fastest. This could mean that an intermediate result is being cached.\n",
            "1000000 loops, best of 3: 748 ns per loop\n"
          ],
          "name": "stdout"
        }
      ]
    }
  ]
}