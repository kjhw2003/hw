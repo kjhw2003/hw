{
  "nbformat": 4,
  "nbformat_minor": 0,
  "metadata": {
    "colab": {
      "name": "Untitled2.ipynb",
      "version": "0.3.2",
      "provenance": [],
      "include_colab_link": true
    },
    "kernelspec": {
      "name": "python3",
      "display_name": "Python 3"
    }
  },
  "cells": [
    {
      "cell_type": "markdown",
      "metadata": {
        "id": "view-in-github",
        "colab_type": "text"
      },
      "source": [
        "<a href=\"https://colab.research.google.com/github/kjhw2003/hw/blob/master/Untitled2.ipynb\" target=\"_parent\"><img src=\"https://colab.research.google.com/assets/colab-badge.svg\" alt=\"Open In Colab\"/></a>"
      ]
    },
    {
      "cell_type": "code",
      "metadata": {
        "id": "fehVmCuSXmIM",
        "colab_type": "code",
        "outputId": "467fe59c-3940-4bd9-dbc0-e39480ce9c19",
        "colab": {
          "base_uri": "https://localhost:8080/",
          "height": 197
        }
      },
      "source": [
        "a=int(input(\"몇 단을 출력하실건가요 : \"))\n",
        "i=1\n",
        "while i<=9:\n",
        "    print('%d*%d:'%(a,i),a*i)\n",
        "    i=i+1\n"
      ],
      "execution_count": 25,
      "outputs": [
        {
          "output_type": "stream",
          "text": [
            "몇 단을 출력하실건가요 : 9\n",
            "9*1: 9\n",
            "9*2: 18\n",
            "9*3: 27\n",
            "9*4: 36\n",
            "9*5: 45\n",
            "9*6: 54\n",
            "9*7: 63\n",
            "9*8: 72\n",
            "9*9: 81\n"
          ],
          "name": "stdout"
        }
      ]
    }
  ]
}