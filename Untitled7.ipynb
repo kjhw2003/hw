{
  "nbformat": 4,
  "nbformat_minor": 0,
  "metadata": {
    "colab": {
      "name": "Untitled7.ipynb",
      "provenance": [],
      "include_colab_link": true
    },
    "kernelspec": {
      "name": "python3",
      "display_name": "Python 3"
    }
  },
  "cells": [
    {
      "cell_type": "markdown",
      "metadata": {
        "id": "view-in-github",
        "colab_type": "text"
      },
      "source": [
        "<a href=\"https://colab.research.google.com/github/kjhw2003/hw/blob/master/Untitled7.ipynb\" target=\"_parent\"><img src=\"https://colab.research.google.com/assets/colab-badge.svg\" alt=\"Open In Colab\"/></a>"
      ]
    },
    {
      "cell_type": "code",
      "metadata": {
        "id": "xdLZSVXvvm6i",
        "colab_type": "code",
        "colab": {
          "base_uri": "https://localhost:8080/",
          "height": 283
        },
        "outputId": "0b5ab7cf-e996-4dd9-fcc5-116efcf477c3"
      },
      "source": [
        "import numpy as np\n",
        "from scipy.linalg import *\n",
        "\n",
        "import matplotlib.pyplot as plt\n",
        "%matplotlib inline\n",
        "\n",
        "from scipy.integrate import solve_ivp\n",
        "\n",
        "def dXdt( t, X) :\n",
        "    return X[1], -4*X[1]-X[0]\n",
        "  \n",
        "#초기값\n",
        "X0 = ( 10, 0 )\n",
        "  \n",
        "t0 = 0\n",
        "tend = 20\n",
        "\n",
        "\n",
        "sol = solve_ivp( dXdt, (t0, tend), X0, t_eval=np.linspace(t0, tend, 101))\n",
        "plt.plot( sol.t, sol.y[0])\n",
        "plt.xlabel('t')\n",
        "plt.ylabel('y')\n",
        "plt.show()"
      ],
      "execution_count": 9,
      "outputs": [
        {
          "output_type": "display_data",
          "data": {
            "image/png": "[encoded data removed]",
            "text/plain": [
              "<Figure size 432x288 with 1 Axes>"
            ]
          },
          "metadata": {
            "tags": []
          }
        }
      ]
    }
  ]
}